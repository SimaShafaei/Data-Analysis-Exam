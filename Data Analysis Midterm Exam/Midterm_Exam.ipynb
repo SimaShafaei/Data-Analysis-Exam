{
 "cells": [
  {
   "cell_type": "markdown",
   "metadata": {},
   "source": [
    "# Question 1\n",
    "Load the .csv file into a pandas data-frame (DF) called df_prob1 with appropriate rows and columns.  Each row must represent an individual object, while each column must represent a particular attribute (Object Number, Title, Dynasty, etc.)"
   ]
  },
  {
   "cell_type": "markdown",
   "metadata": {},
   "source": [
    "# Comment:\n",
    "\n",
    "- I first import the pandas library and then simply use the 'read_csv' method to read the dataset and load it to a data frame.\n",
    "- To make sure it is done correctly I will print the shape and 5 first rows of the read data\n"
   ]
  },
  {
   "cell_type": "code",
   "execution_count": 35,
   "metadata": {},
   "outputs": [
    {
     "name": "stdout",
     "output_type": "stream",
     "text": [
      "this data set has 17249 rows and 44 columns\n",
      "\n",
      "Five first rows of dataset are:\n",
      "  Object Number  Is Highlight  Is Public Domain  Object ID         Department  \\\n",
      "0    1979.486.1         False             False          1  The American Wing   \n",
      "1    1980.264.5         False             False          2  The American Wing   \n",
      "2      67.265.9         False             False          3  The American Wing   \n",
      "3     67.265.10         False             False          4  The American Wing   \n",
      "4     67.265.11         False             False          5  The American Wing   \n",
      "\n",
      "  Object Name                         Title Culture  Period  Dynasty  ...  \\\n",
      "0        Coin  One-dollar Liberty Head Coin     NaN     NaN      NaN  ...   \n",
      "1        Coin  Ten-dollar Liberty Head Coin     NaN     NaN      NaN  ...   \n",
      "2        Coin    Two-and-a-Half Dollar Coin     NaN     NaN      NaN  ...   \n",
      "3        Coin    Two-and-a-Half Dollar Coin     NaN     NaN      NaN  ...   \n",
      "4        Coin    Two-and-a-Half Dollar Coin     NaN     NaN      NaN  ...   \n",
      "\n",
      "   Locale  Locus Excavation River Classification Rights and Reproduction  \\\n",
      "0     NaN    NaN        NaN   NaN          Metal                     NaN   \n",
      "1     NaN    NaN        NaN   NaN          Metal                     NaN   \n",
      "2     NaN    NaN        NaN   NaN          Metal                     NaN   \n",
      "3     NaN    NaN        NaN   NaN          Metal                     NaN   \n",
      "4     NaN    NaN        NaN   NaN          Metal                     NaN   \n",
      "\n",
      "                                      Link Resource Metadata Date  \\\n",
      "0  http://www.metmuseum.org/art/collection/search/1           NaN   \n",
      "1  http://www.metmuseum.org/art/collection/search/2           NaN   \n",
      "2  http://www.metmuseum.org/art/collection/search/3           NaN   \n",
      "3  http://www.metmuseum.org/art/collection/search/4           NaN   \n",
      "4  http://www.metmuseum.org/art/collection/search/5           NaN   \n",
      "\n",
      "                                 Repository Tags  \n",
      "0  Metropolitan Museum of Art, New York, NY  NaN  \n",
      "1  Metropolitan Museum of Art, New York, NY  NaN  \n",
      "2  Metropolitan Museum of Art, New York, NY  NaN  \n",
      "3  Metropolitan Museum of Art, New York, NY  NaN  \n",
      "4  Metropolitan Museum of Art, New York, NY  NaN  \n",
      "\n",
      "[5 rows x 44 columns]\n"
     ]
    }
   ],
   "source": [
    "import pandas as pd\n",
    "df_prob1=pd.read_csv('MetObjects_Subset.csv')\n",
    "print(f'this data set has {df_prob1.shape[0]} rows and {df_prob1.shape[1]} columns\\n')\n",
    "\n",
    "print('Five first rows of dataset are:')\n",
    "print(df_prob1.head())    "
   ]
  },
  {
   "cell_type": "markdown",
   "metadata": {},
   "source": [
    "# Question 2\n",
    "Many columns of this data are missing entirely (i.e. no values are present for any objects).  Use Python to determine which columns are missing for all of the provided objects and create a modified copy of df_prob1 that excludes these columns entirely called df_prob2.\n",
    "Hint: You may want to look into the pandas member function isna.\n"
   ]
  },
  {
   "cell_type": "markdown",
   "metadata": {},
   "source": [
    "# Comment:\n",
    "To do this step, I will first check if the number of Nan in a column is equal to the number of rows. if So I will remove that column."
   ]
  },
  {
   "cell_type": "code",
   "execution_count": 36,
   "metadata": {},
   "outputs": [
    {
     "name": "stdout",
     "output_type": "stream",
     "text": [
      "9 colums were null and removed from dataset. So, number of columns change to: 35 \n",
      "\n",
      "Non null colums are:\n",
      " Index(['Object Number', 'Is Highlight', 'Is Public Domain', 'Object ID',\n",
      "       'Department', 'Object Name', 'Title', 'Culture', 'Artist Role',\n",
      "       'Artist Prefix', 'Artist Display Name', 'Artist Display Bio',\n",
      "       'Artist Suffix', 'Artist Alpha Sort', 'Artist Nationality',\n",
      "       'Artist Begin Date', 'Artist End Date', 'Object Date',\n",
      "       'Object Begin Date', 'Object End Date', 'Medium', 'Dimensions',\n",
      "       'Credit Line', 'Geography Type', 'City', 'State', 'County', 'Country',\n",
      "       'Region', 'Classification', 'Rights and Reproduction', 'Link Resource',\n",
      "       'Metadata Date', 'Repository', 'Tags'],\n",
      "      dtype='object')\n"
     ]
    }
   ],
   "source": [
    "null_col=(df_prob1.isna().sum()==df_prob1.shape[0])\n",
    "df_prob2 = df_prob1.drop(df_prob1.columns[null_col], axis=1)\n",
    "print(f'{df_prob1.shape[1]-df_prob2.shape[1]} colums were null and removed from dataset. So, number of columns change to: {df_prob2.shape[1]} \\n')\n",
    "\n",
    "print(f'Non null colums are:\\n {df_prob2.columns}')"
   ]
  },
  {
   "cell_type": "markdown",
   "metadata": {},
   "source": [
    "# Question 3\n",
    "Suppose we are only interested in North American objects.  You are to create a copy of df_prob2 and remove any objects whose Country column does not include one of “United States,” “Mexico” or “Canada” (with these specific capitalizations only), and store the result (data-frame with NA objects only) into a variable with the name df_prob3.   Note that some objects have two or more countries.  If the Country string includes any of the above (“United States”, “Mexico”, “Canada”) as a substring at least once, it should be present in df_prob3.\n",
    "Hint: you can use regular expressions for this problem, but it is not required, nor is it necessarily the easiest way to handle the problem.\n"
   ]
  },
  {
   "cell_type": "markdown",
   "metadata": {},
   "source": [
    "# Comment:\n",
    "The country column is a series of strings, So the str attribute can be used to call string methods on its elements. The 'contains' method can be used to search for the 'United States', 'Mexico', and 'Canada' substrings at the same time in each row. The result will create a T/F list that can be applied as a mask to get a subset of DataFrame that is wanted.\n",
    "\n",
    "- The case argument is set to True to specify to match only with the determined capitalizations.\n",
    "- The na argument is used to match only the not NULL fields to prevent value Error.\n",
    "\n",
    "to check the result, the number of rows that has United States, Mexico or Canada as their countries is compaired with the total number of rows in df_prob3\n"
   ]
  },
  {
   "cell_type": "code",
   "execution_count": 37,
   "metadata": {},
   "outputs": [
    {
     "name": "stdout",
     "output_type": "stream",
     "text": [
      "Number of rows that has United States, Mexico or Canada as their countries:7891\n",
      "Total number of rows:7891\n"
     ]
    }
   ],
   "source": [
    "df_prob3 = df_prob2.loc[df_prob2['Country'].str.contains( \"United States|Mexico|Canada\" , na=False , case=True)]\n",
    "print(f'Number of rows that has United States, Mexico or Canada as their countries:{sum(df_prob3[\"Country\"].str.contains( \"United States|Mexico|Canada\" , case=True))}')\n",
    "print(f'Total number of rows:{df_prob3.shape[0]}')"
   ]
  },
  {
   "cell_type": "markdown",
   "metadata": {},
   "source": [
    "# Question 4\n",
    "The objects in the dataset include a start year (“Object Begin Date”) and completion year (“Object End Date”).  For this part you are to create a copy of df_prob3 that includes objects with a start year before (not including) 1901 – representing pre-20th century art, and name it df_prob4."
   ]
  },
  {
   "cell_type": "markdown",
   "metadata": {},
   "source": [
    "# Comment:\n",
    "Like previous question, first a T/F list is created based on compairing begin years with 1901. Then the result of this comparisin is applied as a mask to select only the rows that their years are before than 1901.\n",
    "\n",
    "To check the result:\n",
    "- The statistical information of the 'Object begin date' in df_prob 4 is shown which includes min and max (max is 1900)\n",
    "- 10 first rows of the created data frame is prined\n"
   ]
  },
  {
   "cell_type": "code",
   "execution_count": 38,
   "metadata": {},
   "outputs": [
    {
     "name": "stdout",
     "output_type": "stream",
     "text": [
      "The statistical information of the 'Object Begin Date' is:\n",
      "count    7226.000000\n",
      "mean     1821.417520\n",
      "std        70.606248\n",
      "min         0.000000\n",
      "25%      1794.000000\n",
      "50%      1830.000000\n",
      "75%      1870.000000\n",
      "max      1900.000000\n",
      "Name: Object Begin Date, dtype: float64\n",
      "\n",
      "\n",
      "The first 10 'Object Begin Date' valeus in the dataframe are:\n",
      "14    1665\n",
      "15    1800\n",
      "16    1867\n",
      "17    1860\n",
      "18    1859\n",
      "19    1860\n",
      "20    1859\n",
      "23    1860\n",
      "24    1860\n",
      "25    1860\n",
      "Name: Object Begin Date, dtype: int64\n"
     ]
    }
   ],
   "source": [
    "df_prob4=df_prob3.loc[df_prob3['Object Begin Date']<1901]\n",
    "\n",
    "print(f'The statistical information of the \\'Object Begin Date\\' is:\\n{df_prob4[\"Object Begin Date\"].describe()}')\n",
    "print('\\n')\n",
    "print(f'The first 10 \\'Object Begin Date\\' valeus in the dataframe are:\\n{df_prob4[\"Object Begin Date\"].head(10)}')"
   ]
  },
  {
   "cell_type": "markdown",
   "metadata": {},
   "source": [
    "# Question 5\n",
    "For this part, you are to create a copy of df_prob4 called df_prob5 and add a new column to df_prob5 called CrDuration, which represents the difference between the start year and end year (note that many values for this column will be 0, indicating no difference  between the start and end year, while others may exceed 100 years.)"
   ]
  },
  {
   "cell_type": "markdown",
   "metadata": {},
   "source": [
    "# Comment:\n",
    "To keep df_prob4 unchanged, first a deep copy of it is created in df_prob5. Then an new column named CrDuration is added to df_prob5 that each value of it is obtained by subtraction of df_prob4['Object End Date'] and df_prob4['Object Begin Date'] in the same raw.\n",
    "\n",
    "to check the result:\n",
    "- The statistical information of the 'CrDuration' is represented\n",
    "- The first 10 rows in the dataframe for start date, end date and duration is shown:"
   ]
  },
  {
   "cell_type": "code",
   "execution_count": 39,
   "metadata": {},
   "outputs": [
    {
     "name": "stdout",
     "output_type": "stream",
     "text": [
      "The statistical information of the 'CrDuration' is:\n",
      "count    7226.000000\n",
      "mean       20.415583\n",
      "std        26.065913\n",
      "min         0.000000\n",
      "25%         3.000000\n",
      "50%        10.000000\n",
      "75%        28.000000\n",
      "max       200.000000\n",
      "Name: CrDuration, dtype: float64\n",
      "\n",
      "\n",
      "The first 10 rows in the dataframe shows:\n",
      "    Object Begin Date  Object End Date  CrDuration\n",
      "14               1665             1700          35\n",
      "15               1800             1900         100\n",
      "16               1867             1867           0\n",
      "17               1860             1860           0\n",
      "18               1859             1859           0\n",
      "19               1860             1860           0\n",
      "20               1859             1859           0\n",
      "23               1860             1870          10\n",
      "24               1860             1870          10\n",
      "25               1860             1870          10\n"
     ]
    }
   ],
   "source": [
    "df_prob5=df_prob4.copy(deep=True)\n",
    "df_prob5['CrDuration']=df_prob4['Object End Date']-df_prob4['Object Begin Date']\n",
    "print(f'The statistical information of the \\'CrDuration\\' is:\\n{df_prob5[\"CrDuration\"].describe()}')\n",
    "print('\\n')\n",
    "print(f'The first 10 rows in the dataframe shows:\\n{df_prob5[[\"Object Begin Date\",\"Object End Date\",\"CrDuration\"]].head(10)}')"
   ]
  },
  {
   "cell_type": "markdown",
   "metadata": {},
   "source": [
    "# Question 6\n",
    "Most objects in the dataset have a Classification.  For this problem, you are to produce a bar plot depicting the ten most common Classifications for objects in df_prob5, with classification labels on the x-axis and counts on the y-axis, sorted in descending order of counts from left to right.  The example below should give you an idea of the format you want to use, but note that this was generated using the basic DataFrame (df_prob1) and will not reflect the expected results you will observe for df_prob5.  In fact, you should not see “Paintings” on your plot at all"
   ]
  },
  {
   "cell_type": "markdown",
   "metadata": {},
   "source": [
    "# Comment:\n",
    "- To count the number of object in each class first 'group_by' method is used to group all items bades on their classification value. Because 'Object ID' is not Nan, it is used to obtain the number of items in each category.\n",
    "- Then sort_values(ascending=False) is used to sort all classes based on their number in descending order.\n",
    "- Finally the bar plot is produced"
   ]
  },
  {
   "cell_type": "code",
   "execution_count": 40,
   "metadata": {},
   "outputs": [
    {
     "data": {
      "image/png": "[encoded data removed]",
      "text/plain": [
       "<Figure size 720x720 with 1 Axes>"
      ]
     },
     "metadata": {
      "needs_background": "light"
     },
     "output_type": "display_data"
    }
   ],
   "source": [
    "import matplotlib.pyplot as plt\n",
    "classes=df_prob5.groupby(by=[\"Classification\"])['Object ID'].count()\n",
    "ten_most_common_classes=classes.sort_values(ascending=False)[0:10]\n",
    "\n",
    "# bar plot: \n",
    "f = plt.figure()\n",
    "f.set_figwidth(10)\n",
    "f.set_figheight(10)\n",
    "ten_most_common_classes.plot.bar(align = 'center', width = 0.75)\n",
    "plt.ylabel('Number of items in each class')\n",
    "plt.xlabel('Categories')\n",
    "plt.show()"
   ]
  },
  {
   "cell_type": "code",
   "execution_count": null,
   "metadata": {},
   "outputs": [],
   "source": []
  },
  {
   "cell_type": "code",
   "execution_count": null,
   "metadata": {},
   "outputs": [],
   "source": []
  },
  {
   "cell_type": "code",
   "execution_count": null,
   "metadata": {},
   "outputs": [],
   "source": []
  }
 ],
 "metadata": {
  "kernelspec": {
   "display_name": "Python 3",
   "language": "python",
   "name": "python3"
  },
  "language_info": {
   "codemirror_mode": {
    "name": "ipython",
    "version": 3
   },
   "file_extension": ".py",
   "mimetype": "text/x-python",
   "name": "python",
   "nbconvert_exporter": "python",
   "pygments_lexer": "ipython3",
   "version": "3.8.3"
  }
 },
 "nbformat": 4,
 "nbformat_minor": 2
}
